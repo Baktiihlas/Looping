{
 "cells": [
  {
   "cell_type": "code",
   "execution_count": 15,
   "id": "7a5e8b92",
   "metadata": {},
   "outputs": [
    {
     "name": "stdout",
     "output_type": "stream",
     "text": [
      "1 2 3 4 5 6 7 8 9 10 "
     ]
    }
   ],
   "source": [
    "#Mencetak angka 1-10\n",
    "for i in range(1,11):\n",
    "    print(i, end=\" \")"
   ]
  },
  {
   "cell_type": "code",
   "execution_count": 17,
   "id": "940bf140",
   "metadata": {},
   "outputs": [
    {
     "name": "stdout",
     "output_type": "stream",
     "text": [
      "10 20 30 40 50 60 70 80 90 100 "
     ]
    }
   ],
   "source": [
    "#Mencetak 10 20 30 --- 100\n",
    "for i in range(10,101,10):\n",
    "    print(i, end=\" \")\n"
   ]
  },
  {
   "cell_type": "code",
   "execution_count": 19,
   "id": "e65ed3f7",
   "metadata": {},
   "outputs": [
    {
     "name": "stdout",
     "output_type": "stream",
     "text": [
      "10 20 30 40 50 60 70 80 90 100 "
     ]
    }
   ],
   "source": [
    "#Mencetak 10 20 30 --- 100\n",
    "for i in range(1,11):\n",
    "    print(i * 10, end=\" \")"
   ]
  },
  {
   "cell_type": "code",
   "execution_count": 20,
   "id": "37628e97",
   "metadata": {},
   "outputs": [
    {
     "name": "stdout",
     "output_type": "stream",
     "text": [
      "10 9 8 7 6 5 4 3 2 1 "
     ]
    }
   ],
   "source": [
    "#mencetak angka revers 10 9 8 ... 1\n",
    "for i in range(1,11):\n",
    "    print(11 - i, end=\" \")"
   ]
  },
  {
   "cell_type": "code",
   "execution_count": 22,
   "id": "36ccbe19",
   "metadata": {},
   "outputs": [
    {
     "name": "stdout",
     "output_type": "stream",
     "text": [
      "10 9 8 7 6 5 4 3 2 1 "
     ]
    }
   ],
   "source": [
    "#mencetak angka reverse 10 9 8 ... 1\n",
    "for i in range(10,0,-1):\n",
    "    print(i, end=\" \")"
   ]
  },
  {
   "cell_type": "code",
   "execution_count": 35,
   "id": "ebfd0cda",
   "metadata": {},
   "outputs": [
    {
     "name": "stdout",
     "output_type": "stream",
     "text": [
      "1 -2 3 -4 5 -6 7 -8 9 -10 "
     ]
    }
   ],
   "source": [
    "#mencetak angka 1 -2 3 -4 5 -6 ... 10 \n",
    "sign = -1\n",
    "for i in range(1,11):\n",
    "    sign = sign * -1\n",
    "    print(sign *i, end =\" \")"
   ]
  },
  {
   "cell_type": "code",
   "execution_count": 36,
   "id": "920c2765",
   "metadata": {},
   "outputs": [
    {
     "name": "stdout",
     "output_type": "stream",
     "text": [
      "1 -2 3 -4 5 -6 7 -8 9 -10 "
     ]
    }
   ],
   "source": [
    "#mencetak angka 1 -2 3 -4 ... 10\n",
    "for i in range(1,11):\n",
    "    print(i*(-1)**(i-1), end=\" \")"
   ]
  },
  {
   "cell_type": "code",
   "execution_count": 47,
   "id": "88e3e128",
   "metadata": {},
   "outputs": [
    {
     "name": "stdout",
     "output_type": "stream",
     "text": [
      "Isikan bilangan = 4\n",
      "4! adalah 24\n"
     ]
    }
   ],
   "source": [
    "#Mencari bilangan faktorial\n",
    "# input = 3, output = 3 * 2 * 1 = 6\n",
    "# input = 4, output = 4 * 3 * 2 * 1 = 24\n",
    "\n",
    "bil = int(input('Isikan bilangan = '))\n",
    "hasil = 1\n",
    "for i in range(1, bil+1):\n",
    "    hasil = hasil * i \n",
    "\n",
    "print(f\"{bil}! adalah {hasil}\")"
   ]
  },
  {
   "cell_type": "code",
   "execution_count": 53,
   "id": "71c276fe",
   "metadata": {},
   "outputs": [
    {
     "name": "stdout",
     "output_type": "stream",
     "text": [
      "Isikan bilangan = 9\n",
      "9! adalah 362880\n",
      "9 * 8 * 7 * 6 * 5 * 4 * 3 * 2 * 1 = 362880\n"
     ]
    }
   ],
   "source": [
    "#Mencari bilangan faktorial\n",
    "# input = 3, output = 3 * 2 * 1 = 6\n",
    "# input = 4, output = 4 * 3 * 2 * 1 = 24\n",
    "\n",
    "bil = int(input('Isikan bilangan = '))\n",
    "hasil = 1\n",
    "label = \"\"\n",
    "for i in range(1, bil+1):\n",
    "    hasil = hasil * i\n",
    "    if i < bil:\n",
    "        label = label + str((bil+1) - i) + \" * \"\n",
    "    else:\n",
    "        label = label + str((bil+1) - i)\n",
    "        \n",
    "print(f\"{bil}! adalah {hasil}\")\n",
    "print(f\"{label} = {hasil}\")"
   ]
  },
  {
   "cell_type": "code",
   "execution_count": 55,
   "id": "02c8452e",
   "metadata": {},
   "outputs": [
    {
     "name": "stdout",
     "output_type": "stream",
     "text": [
      "Masukan Bilangan: 2\n",
      "Masukan Pangkat: 3\n",
      "2^3 = 8\n"
     ]
    }
   ],
   "source": [
    "#menghitung pangkat\n",
    "bilangan = int(input('Masukan Bilangan: '))\n",
    "pangkat = int(input('Masukan Pangkat: '))\\\n",
    "\n",
    "hasil = bilangan\n",
    "\n",
    "for i in range (pangkat - 1):\n",
    "    hasil *= bilangan\n",
    "print(f\"{bilangan}^{pangkat} = {hasil}\")"
   ]
  },
  {
   "cell_type": "code",
   "execution_count": 65,
   "id": "5d71043f",
   "metadata": {},
   "outputs": [
    {
     "name": "stdout",
     "output_type": "stream",
     "text": [
      "Masukan Bilangan: 4\n",
      "4 adalah bukan bilangan PRIMA\n"
     ]
    }
   ],
   "source": [
    "#mencetak Bilangan Prima atau Bukan\n",
    "#bil. Prima adalah bilangan yang hanya habis di bagi dengan 1 dan bilangan itu sendiri => 2 faktor\n",
    "bil = int(input(\"Masukan Bilangan: \"))\n",
    "jumlah = 0\n",
    "for i in range(1, bil + 1):\n",
    "    sisa = bil % i\n",
    "    if sisa == 0:\n",
    "        jumlah = jumlah + 1\n",
    "if jumlah == 2:\n",
    "    print(f\"{bil} adalah bilangan PRIMA\")\n",
    "else:\n",
    "    print(f\"{bil} adalah bukan bilangan PRIMA\")"
   ]
  },
  {
   "cell_type": "code",
   "execution_count": 68,
   "id": "0a9ad64d",
   "metadata": {},
   "outputs": [
    {
     "name": "stdout",
     "output_type": "stream",
     "text": [
      "1 2 3 4 5 \n",
      "1 2 3 4 6 7 8 9 "
     ]
    }
   ],
   "source": [
    "#Break and Continue\n",
    "\n",
    "for i in range (1,100):\n",
    "    print(i, end = \" \")\n",
    "    if i==5:\n",
    "        break\n",
    "print()     \n",
    "for j in range (1,10):\n",
    "    if j==5:\n",
    "         continue\n",
    "    print(j, end = \" \")"
   ]
  },
  {
   "cell_type": "code",
   "execution_count": 80,
   "id": "00062bb3",
   "metadata": {},
   "outputs": [
    {
     "name": "stdout",
     "output_type": "stream",
     "text": [
      "Isikan Kalimat: indonesia\n",
      "Jumlah huruf a:1\n",
      "Jumlah huruf i:2\n",
      "Jumlah huruf u:0\n",
      "Jumlah huruf e:1\n",
      "Jumlah huruf o:1\n",
      "Jumlah : 5\n"
     ]
    }
   ],
   "source": [
    "#looping untuk string, menghitung huruf vocal a=?, i=?, u=?, e=?, o=?\n",
    "kalimat = input(\"Isikan Kalimat: \")\n",
    "vokal_a = 0\n",
    "vokal_i = 0\n",
    "vokal_u = 0\n",
    "vokal_e = 0\n",
    "vokal_o = 0\n",
    "for i in kalimat:\n",
    "    if i== 'a':\n",
    "        vokal_a += 1\n",
    "    elif i == 'i':\n",
    "        vokal_i += 1\n",
    "    elif i == 'u':\n",
    "        vokal_u += 1\n",
    "    elif i == 'e':\n",
    "        vokal_e += 1\n",
    "    elif i == 'o':\n",
    "        vokal_o += 1\n",
    "print(f\"Jumlah huruf a:{vokal_a}\\nJumlah huruf i:{vokal_i}\\nJumlah huruf u:{vokal_u}\\nJumlah huruf e:{vokal_e}\\nJumlah huruf o:{vokal_o}\")\n",
    "print(\"Jumlah :\", vokal_a+vokal_i+vokal_u+vokal_e+vokal_o)"
   ]
  },
  {
   "cell_type": "code",
   "execution_count": 10,
   "id": "83e4ee02",
   "metadata": {},
   "outputs": [
    {
     "name": "stdout",
     "output_type": "stream",
     "text": [
      "Isikan Kalimat: KATAK\n",
      "PALINDROME\n",
      "Apakah mau mengulang Program(Y/T)?: t\n",
      "Apakah mau mengulang Program(Y/T)?: T\n"
     ]
    },
    {
     "ename": "KeyboardInterrupt",
     "evalue": "Interrupted by user",
     "output_type": "error",
     "traceback": [
      "\u001b[1;31m---------------------------------------------------------------------------\u001b[0m",
      "\u001b[1;31mKeyboardInterrupt\u001b[0m                         Traceback (most recent call last)",
      "Input \u001b[1;32mIn [10]\u001b[0m, in \u001b[0;36m<cell line: 5>\u001b[1;34m()\u001b[0m\n\u001b[0;32m     17\u001b[0m jawab \u001b[38;5;241m=\u001b[39m \u001b[38;5;124m\"\u001b[39m\u001b[38;5;124m\"\u001b[39m\n\u001b[0;32m     18\u001b[0m \u001b[38;5;28;01mwhile\u001b[39;00m(jawab \u001b[38;5;241m!=\u001b[39m\u001b[38;5;124m\"\u001b[39m\u001b[38;5;124mY\u001b[39m\u001b[38;5;124m\"\u001b[39m \u001b[38;5;129;01mand\u001b[39;00m jawab \u001b[38;5;241m!=\u001b[39m\u001b[38;5;124m\"\u001b[39m\u001b[38;5;124mT\u001b[39m\u001b[38;5;124m\"\u001b[39m):\n\u001b[1;32m---> 19\u001b[0m     ulang \u001b[38;5;241m=\u001b[39m \u001b[38;5;28;43minput\u001b[39;49m\u001b[43m(\u001b[49m\u001b[38;5;124;43m\"\u001b[39;49m\u001b[38;5;124;43mApakah mau mengulang Program(Y/T)?: \u001b[39;49m\u001b[38;5;124;43m\"\u001b[39;49m\u001b[43m)\u001b[49m\n\u001b[0;32m     20\u001b[0m ulang \u001b[38;5;241m==\u001b[39m jawab\n",
      "File \u001b[1;32m~\\anaconda3\\lib\\site-packages\\ipykernel\\kernelbase.py:1075\u001b[0m, in \u001b[0;36mKernel.raw_input\u001b[1;34m(self, prompt)\u001b[0m\n\u001b[0;32m   1071\u001b[0m \u001b[38;5;28;01mif\u001b[39;00m \u001b[38;5;129;01mnot\u001b[39;00m \u001b[38;5;28mself\u001b[39m\u001b[38;5;241m.\u001b[39m_allow_stdin:\n\u001b[0;32m   1072\u001b[0m     \u001b[38;5;28;01mraise\u001b[39;00m StdinNotImplementedError(\n\u001b[0;32m   1073\u001b[0m         \u001b[38;5;124m\"\u001b[39m\u001b[38;5;124mraw_input was called, but this frontend does not support input requests.\u001b[39m\u001b[38;5;124m\"\u001b[39m\n\u001b[0;32m   1074\u001b[0m     )\n\u001b[1;32m-> 1075\u001b[0m \u001b[38;5;28;01mreturn\u001b[39;00m \u001b[38;5;28;43mself\u001b[39;49m\u001b[38;5;241;43m.\u001b[39;49m\u001b[43m_input_request\u001b[49m\u001b[43m(\u001b[49m\n\u001b[0;32m   1076\u001b[0m \u001b[43m    \u001b[49m\u001b[38;5;28;43mstr\u001b[39;49m\u001b[43m(\u001b[49m\u001b[43mprompt\u001b[49m\u001b[43m)\u001b[49m\u001b[43m,\u001b[49m\n\u001b[0;32m   1077\u001b[0m \u001b[43m    \u001b[49m\u001b[38;5;28;43mself\u001b[39;49m\u001b[38;5;241;43m.\u001b[39;49m\u001b[43m_parent_ident\u001b[49m\u001b[43m[\u001b[49m\u001b[38;5;124;43m\"\u001b[39;49m\u001b[38;5;124;43mshell\u001b[39;49m\u001b[38;5;124;43m\"\u001b[39;49m\u001b[43m]\u001b[49m\u001b[43m,\u001b[49m\n\u001b[0;32m   1078\u001b[0m \u001b[43m    \u001b[49m\u001b[38;5;28;43mself\u001b[39;49m\u001b[38;5;241;43m.\u001b[39;49m\u001b[43mget_parent\u001b[49m\u001b[43m(\u001b[49m\u001b[38;5;124;43m\"\u001b[39;49m\u001b[38;5;124;43mshell\u001b[39;49m\u001b[38;5;124;43m\"\u001b[39;49m\u001b[43m)\u001b[49m\u001b[43m,\u001b[49m\n\u001b[0;32m   1079\u001b[0m \u001b[43m    \u001b[49m\u001b[43mpassword\u001b[49m\u001b[38;5;241;43m=\u001b[39;49m\u001b[38;5;28;43;01mFalse\u001b[39;49;00m\u001b[43m,\u001b[49m\n\u001b[0;32m   1080\u001b[0m \u001b[43m\u001b[49m\u001b[43m)\u001b[49m\n",
      "File \u001b[1;32m~\\anaconda3\\lib\\site-packages\\ipykernel\\kernelbase.py:1120\u001b[0m, in \u001b[0;36mKernel._input_request\u001b[1;34m(self, prompt, ident, parent, password)\u001b[0m\n\u001b[0;32m   1117\u001b[0m             \u001b[38;5;28;01mbreak\u001b[39;00m\n\u001b[0;32m   1118\u001b[0m \u001b[38;5;28;01mexcept\u001b[39;00m \u001b[38;5;167;01mKeyboardInterrupt\u001b[39;00m:\n\u001b[0;32m   1119\u001b[0m     \u001b[38;5;66;03m# re-raise KeyboardInterrupt, to truncate traceback\u001b[39;00m\n\u001b[1;32m-> 1120\u001b[0m     \u001b[38;5;28;01mraise\u001b[39;00m \u001b[38;5;167;01mKeyboardInterrupt\u001b[39;00m(\u001b[38;5;124m\"\u001b[39m\u001b[38;5;124mInterrupted by user\u001b[39m\u001b[38;5;124m\"\u001b[39m) \u001b[38;5;28;01mfrom\u001b[39;00m \u001b[38;5;28mNone\u001b[39m\n\u001b[0;32m   1121\u001b[0m \u001b[38;5;28;01mexcept\u001b[39;00m \u001b[38;5;167;01mException\u001b[39;00m:\n\u001b[0;32m   1122\u001b[0m     \u001b[38;5;28mself\u001b[39m\u001b[38;5;241m.\u001b[39mlog\u001b[38;5;241m.\u001b[39mwarning(\u001b[38;5;124m\"\u001b[39m\u001b[38;5;124mInvalid Message:\u001b[39m\u001b[38;5;124m\"\u001b[39m, exc_info\u001b[38;5;241m=\u001b[39m\u001b[38;5;28;01mTrue\u001b[39;00m)\n",
      "\u001b[1;31mKeyboardInterrupt\u001b[0m: Interrupted by user"
     ]
    }
   ],
   "source": [
    "#kalimat palindrome atau bukan\n",
    "#kalimat palindrome adalah kalimat yang di baca dari kiri ke kanan == kanan ke kiri\n",
    "#katak => palindrome\n",
    "ulang = \"Y\"\n",
    "while(ulang==\"Y\"):\n",
    "    kalimat = input ('Isikan Kalimat: ')\n",
    "    panjang = len(kalimat)\n",
    "    keterangan = \"PALINDROME\"\n",
    "    for i in range(0,panjang):\n",
    "        kika = kalimat[i].lower()\n",
    "        kaki = kalimat[panjang - i-1].lower()\n",
    "        if kika != kaki:\n",
    "            keterangan =\"BUKAN PALINDROME\"\n",
    "            break\n",
    "    print(f\"{keterangan}\")\n",
    "    \n",
    "    jawab = \"\"\n",
    "    while(jawab !=\"Y\" and jawab !=\"T\"):\n",
    "        ulang = input(\"Apakah mau mengulang Program(Y/T)?: \")\n",
    "    ulang == jawab"
   ]
  },
  {
   "cell_type": "code",
   "execution_count": 1,
   "id": "71ea1550",
   "metadata": {},
   "outputs": [
    {
     "name": "stdout",
     "output_type": "stream",
     "text": [
      "i:1 dan j:1\n",
      "i:1 dan j:2\n",
      "i:1 dan j:3\n",
      "i:1 dan j:4\n",
      "i:2 dan j:1\n",
      "i:2 dan j:2\n",
      "i:2 dan j:3\n",
      "i:2 dan j:4\n",
      "i:3 dan j:1\n",
      "i:3 dan j:2\n",
      "i:3 dan j:3\n",
      "i:3 dan j:4\n",
      "i:4 dan j:1\n",
      "i:4 dan j:2\n",
      "i:4 dan j:3\n",
      "i:4 dan j:4\n"
     ]
    }
   ],
   "source": [
    "#nested FOR\n",
    "\n",
    "for i in range(1,5):\n",
    "    for j in range(1,5):\n",
    "        print(f\"i:{i} dan j:{j}\")"
   ]
  },
  {
   "cell_type": "code",
   "execution_count": null,
   "id": "91df8003",
   "metadata": {},
   "outputs": [],
   "source": []
  }
 ],
 "metadata": {
  "kernelspec": {
   "display_name": "Python 3 (ipykernel)",
   "language": "python",
   "name": "python3"
  },
  "language_info": {
   "codemirror_mode": {
    "name": "ipython",
    "version": 3
   },
   "file_extension": ".py",
   "mimetype": "text/x-python",
   "name": "python",
   "nbconvert_exporter": "python",
   "pygments_lexer": "ipython3",
   "version": "3.9.12"
  }
 },
 "nbformat": 4,
 "nbformat_minor": 5
}
